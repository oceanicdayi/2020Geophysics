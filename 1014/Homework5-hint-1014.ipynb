{
 "cells": [
  {
   "cell_type": "code",
   "execution_count": 2,
   "metadata": {},
   "outputs": [],
   "source": [
    "import os"
   ]
  },
  {
   "cell_type": "code",
   "execution_count": 3,
   "metadata": {},
   "outputs": [],
   "source": [
    "import numpy as np"
   ]
  },
  {
   "cell_type": "code",
   "execution_count": 4,
   "metadata": {},
   "outputs": [
    {
     "data": {
      "text/plain": [
       "3.141592653589793"
      ]
     },
     "execution_count": 4,
     "metadata": {},
     "output_type": "execute_result"
    }
   ],
   "source": [
    "np.pi"
   ]
  },
  {
   "cell_type": "code",
   "execution_count": 5,
   "metadata": {},
   "outputs": [
    {
     "data": {
      "text/plain": [
       "1.0"
      ]
     },
     "execution_count": 5,
     "metadata": {},
     "output_type": "execute_result"
    }
   ],
   "source": [
    "np.sin(90 * np.pi/180)"
   ]
  },
  {
   "cell_type": "code",
   "execution_count": 6,
   "metadata": {},
   "outputs": [
    {
     "data": {
      "text/plain": [
       "1.5707963267948966"
      ]
     },
     "execution_count": 6,
     "metadata": {},
     "output_type": "execute_result"
    }
   ],
   "source": [
    "np.arcsin(1.0)"
   ]
  },
  {
   "cell_type": "code",
   "execution_count": 7,
   "metadata": {},
   "outputs": [
    {
     "data": {
      "text/plain": [
       "90.0"
      ]
     },
     "execution_count": 7,
     "metadata": {},
     "output_type": "execute_result"
    }
   ],
   "source": [
    "np.arcsin(1.0) * 180/np.pi"
   ]
  },
  {
   "cell_type": "code",
   "execution_count": 8,
   "metadata": {},
   "outputs": [
    {
     "data": {
      "text/plain": [
       "0.9999999999999999"
      ]
     },
     "execution_count": 8,
     "metadata": {},
     "output_type": "execute_result"
    }
   ],
   "source": [
    "np.tan(45 * np.pi/180)"
   ]
  },
  {
   "cell_type": "code",
   "execution_count": null,
   "metadata": {},
   "outputs": [],
   "source": []
  },
  {
   "cell_type": "code",
   "execution_count": null,
   "metadata": {},
   "outputs": [],
   "source": []
  },
  {
   "cell_type": "markdown",
   "metadata": {},
   "source": [
    "V1 = 5 km/s\n",
    "V2 = 8 km/s\n",
    "h = 10 km\n",
    "\n",
    "snell's law :\n",
    "sin(A1)/V1 = sin(A2)/V2\n",
    "\n",
    "sin(C1)/V1 = sin(90 degree)/V2\n",
    "\n",
    "--> sin(C1) = V1/V2\n",
    "\n",
    "T1 = T3 = h/cos(C1)\n",
    "T2 = X/V2"
   ]
  },
  {
   "cell_type": "code",
   "execution_count": 9,
   "metadata": {},
   "outputs": [],
   "source": [
    "V1 = 5 \n",
    "V2 = 8 \n",
    "h = 10"
   ]
  },
  {
   "cell_type": "code",
   "execution_count": 10,
   "metadata": {},
   "outputs": [
    {
     "name": "stdout",
     "output_type": "stream",
     "text": [
      "0.6751315329370317\n",
      "38.68218745348944\n"
     ]
    }
   ],
   "source": [
    "#calculate critical angle\n",
    "\n",
    "Critical_angle = np.arcsin( V1/V2 )\n",
    "\n",
    "print(Critical_angle)\n",
    "print(Critical_angle * 180/np.pi)"
   ]
  },
  {
   "cell_type": "markdown",
   "metadata": {},
   "source": [
    "# Calculate Xc\n",
    "\n",
    "## Xc  =  2* h* tan(Critical_angle)"
   ]
  },
  {
   "cell_type": "code",
   "execution_count": 11,
   "metadata": {},
   "outputs": [
    {
     "name": "stdout",
     "output_type": "stream",
     "text": [
      "16.012815380508712\n"
     ]
    }
   ],
   "source": [
    "Xc = 2 * h * np.tan( Critical_angle )\n",
    "print(Xc)"
   ]
  },
  {
   "cell_type": "code",
   "execution_count": 15,
   "metadata": {},
   "outputs": [
    {
     "data": {
      "text/plain": [
       "array([10. , 12.5, 15. , 17.5, 20. ])"
      ]
     },
     "execution_count": 15,
     "metadata": {},
     "output_type": "execute_result"
    }
   ],
   "source": [
    "#在10到20之間產生5個數字\n",
    "np.linspace(10,20,5)"
   ]
  },
  {
   "cell_type": "code",
   "execution_count": null,
   "metadata": {},
   "outputs": [],
   "source": []
  },
  {
   "cell_type": "code",
   "execution_count": 19,
   "metadata": {},
   "outputs": [
    {
     "name": "stdout",
     "output_type": "stream",
     "text": [
      "[16.01281538 20.90028034 25.7877453  30.67521025 35.56267521 40.45014017\n",
      " 45.33760513 50.22507008 55.11253504 60.        ]\n"
     ]
    }
   ],
   "source": [
    "# 選取10個位置\n",
    "# X 表示地震儀與震源的距離\n",
    "X = np.linspace(Xc,60,10)\n",
    "print(X)"
   ]
  },
  {
   "cell_type": "code",
   "execution_count": null,
   "metadata": {},
   "outputs": [],
   "source": [
    "# 分別計算出這10個位置的 Travel Time"
   ]
  },
  {
   "cell_type": "markdown",
   "metadata": {},
   "source": [
    "# Calculate travel time\n",
    "## Travel_time = T1 + T2 + T3\n",
    "### ang = critical_angle\n",
    "### T1  =  h/cos(ang) /  V1\n",
    "### T2  =  ( X - h*tan(ang) - h*tan(ang)  ) / V2\n",
    "### T3  =  h/cos(ang) /  V1\n"
   ]
  },
  {
   "cell_type": "code",
   "execution_count": 20,
   "metadata": {},
   "outputs": [
    {
     "name": "stdout",
     "output_type": "stream",
     "text": [
      "2.562050460881394 0.0 2.562050460881394\n"
     ]
    }
   ],
   "source": [
    "#先算第一個位置   X[0]  的Travel Time\n",
    "T1 = h / np.cos(Critical_angle) / V1\n",
    "T2 = ( X[0] - h * np.tan(Critical_angle) - h * np.tan(Critical_angle) ) / V2\n",
    "T3 = h / np.cos(Critical_angle) / V1\n",
    "print(T1,T2,T3)"
   ]
  },
  {
   "cell_type": "code",
   "execution_count": 22,
   "metadata": {},
   "outputs": [
    {
     "name": "stdout",
     "output_type": "stream",
     "text": [
      "2.562050460881394 0.6109331197151566 2.562050460881394\n"
     ]
    }
   ],
   "source": [
    "#算第二個位置   X[1]  的Travel Time\n",
    "T1 = h / np.cos(Critical_angle) / V1\n",
    "T2 = ( X[1] - h * np.tan(Critical_angle) - h * np.tan(Critical_angle) ) / V2\n",
    "T3 = h / np.cos(Critical_angle) / V1\n",
    "print(T1,T2,T3)"
   ]
  },
  {
   "cell_type": "code",
   "execution_count": null,
   "metadata": {},
   "outputs": [],
   "source": [
    "#寫一個for迴圈計算全部的trave time，並且將 X 和 T 分別寫進檔案  Rdata.txt"
   ]
  },
  {
   "cell_type": "code",
   "execution_count": null,
   "metadata": {},
   "outputs": [],
   "source": []
  },
  {
   "cell_type": "code",
   "execution_count": 40,
   "metadata": {},
   "outputs": [],
   "source": [
    "with open(\"Rdata.txt\",\"w\") as fp:\n",
    "    fp.write(\"40 30 \\n\")\n",
    "    fp.write(\"50 35 \\n\")\n",
    "    fp.write(\"55 38 \\n\")"
   ]
  },
  {
   "cell_type": "code",
   "execution_count": 41,
   "metadata": {},
   "outputs": [],
   "source": [
    "# 最後再用 GMT 畫圖即完成\n",
    "\n",
    "with open(\"run_gmt.bat\",\"w\") as fp:\n",
    "    fp.write(\"gmt begin Critical_Refracted \\n\")\n",
    "    fp.write(\"gmt basemap -R0/200/0/100 -JX9i/-6i -Bxa20+l\\\"Distance (km)\\\" -Bya10+l\\\"Time (sec)\\\" -BWN \\n\")\n",
    "    fp.write(\"gmt plot Rdata.txt -R0/200/0/100 -Sc0.6 -G200 \\n\")\n",
    "    fp.write(\"gmt plot Rdata.txt -R0/200/0/100 -W1/100 \\n\")\n",
    "    fp.write(\"gmt end show \\n\")"
   ]
  },
  {
   "cell_type": "code",
   "execution_count": 42,
   "metadata": {},
   "outputs": [
    {
     "data": {
      "text/plain": [
       "0"
      ]
     },
     "execution_count": 42,
     "metadata": {},
     "output_type": "execute_result"
    }
   ],
   "source": [
    "os.system(\"run_gmt.bat\")"
   ]
  },
  {
   "cell_type": "code",
   "execution_count": null,
   "metadata": {},
   "outputs": [],
   "source": []
  }
 ],
 "metadata": {
  "kernelspec": {
   "display_name": "Python 3",
   "language": "python",
   "name": "python3"
  },
  "language_info": {
   "codemirror_mode": {
    "name": "ipython",
    "version": 3
   },
   "file_extension": ".py",
   "mimetype": "text/x-python",
   "name": "python",
   "nbconvert_exporter": "python",
   "pygments_lexer": "ipython3",
   "version": "3.7.6"
  }
 },
 "nbformat": 4,
 "nbformat_minor": 4
}
